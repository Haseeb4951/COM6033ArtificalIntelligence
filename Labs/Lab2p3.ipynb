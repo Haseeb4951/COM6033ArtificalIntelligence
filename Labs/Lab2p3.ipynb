{
 "cells": [
  {
   "cell_type": "code",
   "execution_count": 1,
   "metadata": {},
   "outputs": [
    {
     "name": "stdout",
     "output_type": "stream",
     "text": [
      "Original DataFrame:\n",
      "   OrderID CustomerID     Product\n",
      "0      101       A100      Laptop\n",
      "1      102       A101  Smartphone\n",
      "2      103       A100      Laptop\n",
      "3      104       A102      Tablet\n",
      "4      105       A103  Smartphone\n",
      "\n",
      "Duplicate Orders:\n",
      "0    False\n",
      "1    False\n",
      "2    False\n",
      "3    False\n",
      "4    False\n",
      "dtype: bool\n",
      "\n",
      "DataFrame after dropping duplicates:\n",
      "   OrderID CustomerID     Product\n",
      "0      101       A100      Laptop\n",
      "1      102       A101  Smartphone\n",
      "2      103       A100      Laptop\n",
      "3      104       A102      Tablet\n",
      "4      105       A103  Smartphone\n"
     ]
    }
   ],
   "source": [
    "import pandas as pd\n",
    "\n",
    "# Task 1: Create the DataFrame\n",
    "data = {\n",
    "    'OrderID': [101, 102, 103, 104, 105],\n",
    "    'CustomerID': ['A100', 'A101', 'A100', 'A102', 'A103'],\n",
    "    'Product': ['Laptop', 'Smartphone', 'Laptop', 'Tablet', 'Smartphone']\n",
    "}\n",
    "\n",
    "orders_df = pd.DataFrame(data)\n",
    "\n",
    "print(\"Original DataFrame:\")\n",
    "print(orders_df)\n",
    "\n",
    "# Task 2: Check for duplicate orders based on 'OrderID' and 'CustomerID'\n",
    "duplicates = orders_df.duplicated(subset=['OrderID', 'CustomerID'])\n",
    "\n",
    "print(\"\\nDuplicate Orders:\")\n",
    "print(duplicates)\n",
    "\n",
    "# Drop the duplicate orders\n",
    "orders_df_no_duplicates = orders_df.drop_duplicates(subset=['OrderID', 'CustomerID'])\n",
    "\n",
    "print(\"\\nDataFrame after dropping duplicates:\")\n",
    "print(orders_df_no_duplicates)\n"
   ]
  }
 ],
 "metadata": {
  "kernelspec": {
   "display_name": "Python 3",
   "language": "python",
   "name": "python3"
  },
  "language_info": {
   "codemirror_mode": {
    "name": "ipython",
    "version": 3
   },
   "file_extension": ".py",
   "mimetype": "text/x-python",
   "name": "python",
   "nbconvert_exporter": "python",
   "pygments_lexer": "ipython3",
   "version": "3.13.0"
  }
 },
 "nbformat": 4,
 "nbformat_minor": 2
}
