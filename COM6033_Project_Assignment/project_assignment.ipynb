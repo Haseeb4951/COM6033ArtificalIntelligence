{
 "cells": [
  {
   "cell_type": "markdown",
   "metadata": {},
   "source": [
    "## Problem Definition\n",
    "\n",
    "The goal of this project is to predict the **diabetes progression score** based on various features such as **age**, **blood pressure**, **insulin levels**, and other relevant health metrics. The task is approached as a **regression problem**, where the target variable (diabetes progression score) is continuous.\n",
    "\n",
    "Given the data, we aim to build a machine learning model that can predict how the progression of diabetes changes over time based on the input features.\n"
   ]
  },
  {
   "cell_type": "code",
   "execution_count": 1,
   "metadata": {},
   "outputs": [],
   "source": [
    "import pandas as pd # Import for data handling.\n",
    "import numpy as np # Import for numerical data."
   ]
  },
  {
   "cell_type": "code",
   "execution_count": 2,
   "metadata": {},
   "outputs": [
    {
     "data": {
      "text/html": [
       "<div>\n",
       "<style scoped>\n",
       "    .dataframe tbody tr th:only-of-type {\n",
       "        vertical-align: middle;\n",
       "    }\n",
       "\n",
       "    .dataframe tbody tr th {\n",
       "        vertical-align: top;\n",
       "    }\n",
       "\n",
       "    .dataframe thead th {\n",
       "        text-align: right;\n",
       "    }\n",
       "</style>\n",
       "<table border=\"1\" class=\"dataframe\">\n",
       "  <thead>\n",
       "    <tr style=\"text-align: right;\">\n",
       "      <th></th>\n",
       "      <th>Pregnancies</th>\n",
       "      <th>Glucose</th>\n",
       "      <th>BloodPressure</th>\n",
       "      <th>SkinThickness</th>\n",
       "      <th>Insulin</th>\n",
       "      <th>BMI</th>\n",
       "      <th>DiabetesPedigreeFunction</th>\n",
       "      <th>Age</th>\n",
       "      <th>Outcome</th>\n",
       "    </tr>\n",
       "  </thead>\n",
       "  <tbody>\n",
       "    <tr>\n",
       "      <th>0</th>\n",
       "      <td>6</td>\n",
       "      <td>148</td>\n",
       "      <td>72</td>\n",
       "      <td>35</td>\n",
       "      <td>0</td>\n",
       "      <td>33.6</td>\n",
       "      <td>0.627</td>\n",
       "      <td>50</td>\n",
       "      <td>1</td>\n",
       "    </tr>\n",
       "    <tr>\n",
       "      <th>1</th>\n",
       "      <td>1</td>\n",
       "      <td>85</td>\n",
       "      <td>66</td>\n",
       "      <td>29</td>\n",
       "      <td>0</td>\n",
       "      <td>26.6</td>\n",
       "      <td>0.351</td>\n",
       "      <td>31</td>\n",
       "      <td>0</td>\n",
       "    </tr>\n",
       "    <tr>\n",
       "      <th>2</th>\n",
       "      <td>8</td>\n",
       "      <td>183</td>\n",
       "      <td>64</td>\n",
       "      <td>0</td>\n",
       "      <td>0</td>\n",
       "      <td>23.3</td>\n",
       "      <td>0.672</td>\n",
       "      <td>32</td>\n",
       "      <td>1</td>\n",
       "    </tr>\n",
       "    <tr>\n",
       "      <th>3</th>\n",
       "      <td>1</td>\n",
       "      <td>89</td>\n",
       "      <td>66</td>\n",
       "      <td>23</td>\n",
       "      <td>94</td>\n",
       "      <td>28.1</td>\n",
       "      <td>0.167</td>\n",
       "      <td>21</td>\n",
       "      <td>0</td>\n",
       "    </tr>\n",
       "    <tr>\n",
       "      <th>4</th>\n",
       "      <td>0</td>\n",
       "      <td>137</td>\n",
       "      <td>40</td>\n",
       "      <td>35</td>\n",
       "      <td>168</td>\n",
       "      <td>43.1</td>\n",
       "      <td>2.288</td>\n",
       "      <td>33</td>\n",
       "      <td>1</td>\n",
       "    </tr>\n",
       "  </tbody>\n",
       "</table>\n",
       "</div>"
      ],
      "text/plain": [
       "   Pregnancies  Glucose  BloodPressure  SkinThickness  Insulin   BMI  \\\n",
       "0            6      148             72             35        0  33.6   \n",
       "1            1       85             66             29        0  26.6   \n",
       "2            8      183             64              0        0  23.3   \n",
       "3            1       89             66             23       94  28.1   \n",
       "4            0      137             40             35      168  43.1   \n",
       "\n",
       "   DiabetesPedigreeFunction  Age  Outcome  \n",
       "0                     0.627   50        1  \n",
       "1                     0.351   31        0  \n",
       "2                     0.672   32        1  \n",
       "3                     0.167   21        0  \n",
       "4                     2.288   33        1  "
      ]
     },
     "execution_count": 2,
     "metadata": {},
     "output_type": "execute_result"
    }
   ],
   "source": [
    "df = pd.read_csv('data/diabetes.csv') #Load dataset.\n",
    "df.head() # Display first 5 rows."
   ]
  },
  {
   "cell_type": "code",
   "execution_count": 3,
   "metadata": {},
   "outputs": [
    {
     "name": "stdout",
     "output_type": "stream",
     "text": [
      "<class 'pandas.core.frame.DataFrame'>\n",
      "RangeIndex: 768 entries, 0 to 767\n",
      "Data columns (total 9 columns):\n",
      " #   Column                    Non-Null Count  Dtype  \n",
      "---  ------                    --------------  -----  \n",
      " 0   Pregnancies               768 non-null    int64  \n",
      " 1   Glucose                   768 non-null    int64  \n",
      " 2   BloodPressure             768 non-null    int64  \n",
      " 3   SkinThickness             768 non-null    int64  \n",
      " 4   Insulin                   768 non-null    int64  \n",
      " 5   BMI                       768 non-null    float64\n",
      " 6   DiabetesPedigreeFunction  768 non-null    float64\n",
      " 7   Age                       768 non-null    int64  \n",
      " 8   Outcome                   768 non-null    int64  \n",
      "dtypes: float64(2), int64(7)\n",
      "memory usage: 54.1 KB\n"
     ]
    },
    {
     "data": {
      "text/plain": [
       "Pregnancies                 0\n",
       "Glucose                     0\n",
       "BloodPressure               0\n",
       "SkinThickness               0\n",
       "Insulin                     0\n",
       "BMI                         0\n",
       "DiabetesPedigreeFunction    0\n",
       "Age                         0\n",
       "Outcome                     0\n",
       "dtype: int64"
      ]
     },
     "execution_count": 3,
     "metadata": {},
     "output_type": "execute_result"
    }
   ],
   "source": [
    "df.info() # Prints info about DataFrame.\n",
    "df.isnull().sum() # Identify missing values."
   ]
  },
  {
   "cell_type": "code",
   "execution_count": null,
   "metadata": {},
   "outputs": [
    {
     "name": "stdout",
     "output_type": "stream",
     "text": [
      "   Pregnancies   Glucose  BloodPressure  SkinThickness   Insulin       BMI  \\\n",
      "0     0.639947  0.848324       0.149641       0.907270 -0.692891  0.204013   \n",
      "1    -0.844885 -1.123396      -0.160546       0.530902 -0.692891 -0.684422   \n",
      "2     1.233880  1.943724      -0.263941      -1.288212 -0.692891 -1.103255   \n",
      "3    -0.844885 -0.998208      -0.160546       0.154533  0.123302 -0.494043   \n",
      "4    -1.141852  0.504055      -1.504687       0.907270  0.765836  1.409746   \n",
      "\n",
      "   DiabetesPedigreeFunction       Age  Outcome  \n",
      "0                  0.468492  1.425995        1  \n",
      "1                 -0.365061 -0.190672        0  \n",
      "2                  0.604397 -0.105584        1  \n",
      "3                 -0.920763 -1.041549        0  \n",
      "4                  5.484909 -0.020496        1  \n"
     ]
    }
   ],
   "source": [
    "from sklearn.preprocessing import StandardScaler # Import scaler for normalization.\n",
    "\n",
    "features = df.drop('Outcome', axis=1) # Predicting outcome.\n",
    "\n",
    "scaler = StandardScaler() # Normalise data numbers.\n",
    "\n",
    "normalized_features = scaler.fit_transform(features) # Changes all features to the same scale.\n",
    "df_normalized = pd.DataFrame(normalized_features, columns=features.columns) # Put scaled features in new table.\n",
    "\n",
    "df_normalized['Outcome'] = df['Outcome'] # Add outcome column back to table.\n",
    "print(df_normalized.head()) # show first 5 rows of new table."
   ]
  },
  {
   "cell_type": "code",
   "execution_count": null,
   "metadata": {},
   "outputs": [
    {
     "name": "stdout",
     "output_type": "stream",
     "text": [
      "Training Features Shape: (614, 8)\n",
      "Testing Features Shape: (154, 8)\n",
      "Training Target Shape: (614,)\n",
      "Testing Target Shape: (154,)\n"
     ]
    }
   ],
   "source": [
    "from sklearn.model_selection import train_test_split # Import to split data into training and testing.\n",
    "\n",
    "X = df_normalized.drop('Outcome', axis=1) # X is all the columns expect outcome. Inputs from user.\n",
    "y = df_normalized['Outcome']  # y is the outcome column. Result/ output model needs to predict.\n",
    "\n",
    "X_train, X_test, y_train, y_test = train_test_split(X, y, test_size=0.2, random_state=42) # Split data into training and testing sets. Training 80% of data and testing 20%.\n",
    "\n",
    "print(f\"Training Features Shape: {X_train.shape}\") # Rows and columns in training features\n",
    "print(f\"Testing Features Shape: {X_test.shape}\") # Rows and columns in testing features\n",
    "print(f\"Training Target Shape: {y_train.shape}\") # Rows in training target\n",
    "print(f\"Testing Target Shape: {y_test.shape}\") # Rows in testing target"
   ]
  },
  {
   "cell_type": "code",
   "execution_count": null,
   "metadata": {},
   "outputs": [
    {
     "name": "stdout",
     "output_type": "stream",
     "text": [
      "Mean Squared Error: 0.17104527280850101\n",
      "R-squared: 0.25500281176741757\n"
     ]
    }
   ],
   "source": [
    "from sklearn.linear_model import LinearRegression # Import Linear Regression model.\n",
    "from sklearn.metrics import mean_squared_error, r2_score # Evaluate the model.\n",
    "\n",
    "model = LinearRegression() # Create Linear Regression.\n",
    "\n",
    "model.fit(X_train, y_train) # Learns patterns from X_train and y_train.\n",
    "\n",
    "y_pred = model.predict(X_test) # Predict outcome using test features.\n",
    "\n",
    "mse = mean_squared_error(y_test, y_pred) # Measures how far predicition is from actual values. \n",
    "r2 = r2_score(y_test, y_pred) # Tells how well the model fits the data.\n",
    "\n",
    "print(f\"Mean Squared Error: {mse}\") # Print how far the predcitions are from actual values\n",
    "print(f\"R-squared: {r2}\") # Print how well the model fits the data."
   ]
  },
  {
   "cell_type": "code",
   "execution_count": null,
   "metadata": {},
   "outputs": [
    {
     "name": "stdout",
     "output_type": "stream",
     "text": [
      "Random Forest Mean Squared Error: 0.1710025974025974\n",
      "Random Forest R-squared: 0.2551886868686867\n"
     ]
    }
   ],
   "source": [
    "from sklearn.ensemble import RandomForestRegressor # Import Random Forest Regressor\n",
    "\n",
    "rf_model = RandomForestRegressor(n_estimators=100, random_state=42) # Uses 100 decision trees in the forest. More trees imporves accuracy. \n",
    "# random_state=42 ensures the results are consistent.\n",
    "rf_model.fit(X_train, y_train) #Trains the model using training data.\n",
    "\n",
    "y_rf_pred = rf_model.predict(X_test) # Predicts target values.\n",
    "\n",
    "rf_mse = mean_squared_error(y_test, y_rf_pred) # Measures how far predicition is from actual values.\n",
    "rf_r2 = r2_score(y_test, y_rf_pred) # Tells how well the model fits the data.\n",
    "\n",
    "print(f\"Random Forest Mean Squared Error: {rf_mse}\") # Display MSE.\n",
    "print(f\"Random Forest R-squared: {rf_r2}\") # Display R-Squared."
   ]
  },
  {
   "cell_type": "code",
   "execution_count": null,
   "metadata": {},
   "outputs": [
    {
     "name": "stdout",
     "output_type": "stream",
     "text": [
      "Support Vector Regression Mean Squared Error: 0.1802369656341436\n",
      "Support Vector Regression R-squared: 0.2149678830157299\n"
     ]
    }
   ],
   "source": [
    "from sklearn.svm import SVR # Import Support Vector Regression.\n",
    "\n",
    "svr_model = SVR(kernel='rbf')  # Activate SVR model.\n",
    "\n",
    "svr_model.fit(X_train, y_train) # Train the SVR model.\n",
    "y_svr_pred = svr_model.predict(X_test) # Predict target values for test set.\n",
    "\n",
    "\n",
    "svr_mse = mean_squared_error(y_test, y_svr_pred) # Measures how far predicition is from actual values.\n",
    "svr_r2 = r2_score(y_test, y_svr_pred) # Tells how well the model fits the data.\n",
    "\n",
    "print(f\"Support Vector Regression Mean Squared Error: {svr_mse}\") # DisplayS MSE.\n",
    "print(f\"Support Vector Regression R-squared: {svr_r2}\") # DisplayS R-Squared."
   ]
  },
  {
   "cell_type": "code",
   "execution_count": null,
   "metadata": {},
   "outputs": [
    {
     "name": "stdout",
     "output_type": "stream",
     "text": [
      "Fitting 3 folds for each of 8 candidates, totalling 24 fits\n",
      "Best Parameters: {'learning_rate': 0.01, 'max_depth': 5, 'n_estimators': 200}\n",
      "Mean Squared Error: 0.1664337228518826\n",
      "R-squared: 0.2750886738006889\n"
     ]
    }
   ],
   "source": [
    "from sklearn.model_selection import GridSearchCV # Import for settings.\n",
    "from sklearn.ensemble import GradientBoostingRegressor # Import model.\n",
    "from sklearn.metrics import mean_squared_error, r2_score # Import to measure model.\n",
    "\n",
    "param_grid = {\n",
    "    'n_estimators': [100, 200], # Number of learning steps our model will use.\n",
    "    'learning_rate': [0.01, 0.1], # This controls how fast our model learns.\n",
    "    'max_depth': [3, 5] # Controls complexity.\n",
    "}\n",
    "\n",
    "grid_search = GridSearchCV( # Helps test different combination of settings.\n",
    "    estimator=GradientBoostingRegressor(), # The model.\n",
    "    param_grid=param_grid, # Different settings.\n",
    "    cv=3, # Splits the data into 3 parts.\n",
    "    n_jobs=-1,\n",
    "    verbose=2 # Shows us details while search is progressing.\n",
    ")\n",
    "\n",
    "grid_search.fit(X_train, y_train) # Uses training data to try different combinations of settings.\n",
    "best_gbr = grid_search.best_estimator_ # Gives us best model that GridSearch found.\n",
    "y_pred = best_gbr.predict(X_test) # Model can make predicitions using the test data.\n",
    "\n",
    "mse = mean_squared_error(y_test, y_pred) # Measures how far predicition is from actual values.\n",
    "r2 = r2_score(y_test, y_pred) # Tells how well the model fits the data.\n",
    "\n",
    "print(\"Best Parameters:\", grid_search.best_params_) # Shows which settings worked best.\n",
    "print(f\"Mean Squared Error: {mse}\") # DisplayS MSE.\n",
    "print(f\"R-squared: {r2}\") # DisplayS R-Squared."
   ]
  },
  {
   "cell_type": "code",
   "execution_count": null,
   "metadata": {},
   "outputs": [
    {
     "name": "stdout",
     "output_type": "stream",
     "text": [
      "Optimized Model Mean Squared Error: 0.1664337228518826\n",
      "Optimized Model R-squared: 0.2750886738006889\n"
     ]
    }
   ],
   "source": [
    "y_pred = best_gbr.predict(X_test) # X is the new data, y will be models predicition.\n",
    "from sklearn.metrics import mean_squared_error, r2_score # Import libararies.\n",
    "\n",
    "mse = mean_squared_error(y_test, y_pred) # Tells us how close the prediction is from the actual values.\n",
    "r2 = r2_score(y_test, y_pred) # Calculates the R-squared score.\n",
    "\n",
    "print(\"Optimized Model Mean Squared Error:\", mse) # Displays the MSE\n",
    "print(\"Optimized Model R-squared:\", r2) # Displays the R-squared "
   ]
  },
  {
   "cell_type": "code",
   "execution_count": null,
   "metadata": {},
   "outputs": [
    {
     "data": {
      "text/plain": [
       "['gradient_boosting_model.pkl']"
      ]
     },
     "execution_count": 13,
     "metadata": {},
     "output_type": "execute_result"
    }
   ],
   "source": [
    "import joblib # Import to save and load model so it can be reused.\n",
    "joblib.dump(best_gbr, 'gradient_boosting_model.pkl') #  Saves the model."
   ]
  },
  {
   "cell_type": "code",
   "execution_count": null,
   "metadata": {},
   "outputs": [
    {
     "name": "stdout",
     "output_type": "stream",
     "text": [
      "Model and Scaler have been saved successfully.\n"
     ]
    }
   ],
   "source": [
    "import joblib # Used to save and load models.\n",
    "import pandas as pd # Used to work with data\n",
    "from sklearn.preprocessing import StandardScaler # Used to scale and normalize data.\n",
    "from sklearn.ensemble import GradientBoostingRegressor # This is the learning model \n",
    "\n",
    "df = pd.read_csv('data/diabetes.csv') # Load the dataset.\n",
    "\n",
    "X = df.drop(columns='Outcome') # Show all columns except outcome.\n",
    "y = df['Outcome'] # Outcome we want the model to predict.\n",
    "\n",
    "scaler = StandardScaler() # Normalizes the features.\n",
    "X_scaled = scaler.fit_transform(X) # Learns then applies.\n",
    "\n",
    "model = GradientBoostingRegressor() # Creates an instance.\n",
    "model.fit(X_scaled, y) # Train the model to predict the target.\n",
    "\n",
    "joblib.dump(model, 'gradient_boosting_model.pkl') # Save the model to a file named gradient_boosting_model.pkl.\n",
    "joblib.dump(scaler, 'scaler.pkl') # Save the scaler to a file named scaler.pkl.\n",
    "\n",
    "print(\"Model and Scaler have been saved successfully.\") # Confirmation message."
   ]
  }
 ],
 "metadata": {
  "kernelspec": {
   "display_name": "Python 3",
   "language": "python",
   "name": "python3"
  },
  "language_info": {
   "codemirror_mode": {
    "name": "ipython",
    "version": 3
   },
   "file_extension": ".py",
   "mimetype": "text/x-python",
   "name": "python",
   "nbconvert_exporter": "python",
   "pygments_lexer": "ipython3",
   "version": "3.13.0"
  }
 },
 "nbformat": 4,
 "nbformat_minor": 2
}
